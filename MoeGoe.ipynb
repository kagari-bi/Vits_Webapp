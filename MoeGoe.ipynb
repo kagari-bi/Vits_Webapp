{
 "cells": [
  {
   "cell_type": "code",
   "execution_count": 1,
   "id": "ca529f87-f8d8-446c-b346-22840f88f7c9",
   "metadata": {
    "tags": []
   },
   "outputs": [
    {
     "name": "stderr",
     "output_type": "stream",
     "text": [
      "C:\\Users\\ljj66\\miniconda3\\envs\\vits\\lib\\site-packages\\tqdm\\auto.py:21: TqdmWarning: IProgress not found. Please update jupyter and ipywidgets. See https://ipywidgets.readthedocs.io/en/stable/user_install.html\n",
      "  from .autonotebook import tqdm as notebook_tqdm\n"
     ]
    }
   ],
   "source": [
    "import torch\n",
    "from scipy.io.wavfile import write\n",
    "from mel_processing import spectrogram_torch\n",
    "from text import text_to_sequence, _clean_text\n",
    "from models import SynthesizerTrn\n",
    "import utils\n",
    "import commons\n",
    "from torch import no_grad, LongTensor\n",
    "import logging\n",
    "\n",
    "logging.getLogger('numba').setLevel(logging.WARNING)"
   ]
  },
  {
   "cell_type": "code",
   "execution_count": 4,
   "id": "e4cdf3f4-d2be-4bcd-b8c2-5dd0423ccb3f",
   "metadata": {
    "tags": []
   },
   "outputs": [],
   "source": [
    "# 设置参数\n",
    "model_path = \"models/Umamusume/uma_1153000.pth\"\n",
    "config_path = \"models/Umamusume/uma87.json\"\n",
    "text_to_read = \"私たちは、オペラを作ってみましょう！　艶のあるチョコレート ケーキで、トレセン学園の『重厚さ』が表現できると思うんです！\"\n",
    "speaker_id = 29\n",
    "output_path = \"\"\n",
    "cleaned = False\n",
    "length_scale = 1.0\n",
    "noise_scale = 0.667\n",
    "noise_scale_w = 0.8"
   ]
  },
  {
   "cell_type": "code",
   "execution_count": 6,
   "id": "ad3c51b8-2485-48b8-803e-99847beb0d16",
   "metadata": {
    "tags": []
   },
   "outputs": [
    {
     "name": "stdout",
     "output_type": "stream",
     "text": [
      "Successfully saved!\n"
     ]
    }
   ],
   "source": [
    "device = torch.device('cuda' if torch.cuda.is_available() else 'cpu')\n",
    "\n",
    "hps_ms = utils.get_hparams_from_file(config_path)\n",
    "n_symbols = len(hps_ms.symbols) if 'symbols' in hps_ms.keys() else 0\n",
    "n_speakers = hps_ms.data.n_speakers if 'n_speakers' in hps_ms.data.keys() else 0\n",
    "speakers = hps_ms.speakers if 'speakers' in hps_ms.keys() else ['0']\n",
    "\n",
    "net_g_ms = SynthesizerTrn(\n",
    "    n_symbols,\n",
    "    hps_ms.data.filter_length // 2 + 1,\n",
    "    hps_ms.train.segment_size // hps_ms.data.hop_length,\n",
    "    n_speakers=n_speakers,\n",
    "    **hps_ms.model).to(device)\n",
    "_ = net_g_ms.eval()\n",
    "utils.load_checkpoint(model_path, net_g_ms)\n",
    "\n",
    "def get_text(text, hps, cleaned=False):\n",
    "    if cleaned:\n",
    "        text_norm = text_to_sequence(text, hps.symbols, [])\n",
    "    else:\n",
    "        text_norm = text_to_sequence(text, hps.symbols, hps.data.text_cleaners)\n",
    "    if hps.data.add_blank:\n",
    "        text_norm = commons.intersperse(text_norm, 0)\n",
    "    text_norm = LongTensor(text_norm)\n",
    "    return text_norm\n",
    "\n",
    "stn_tst = get_text(text_to_read, hps_ms, cleaned=cleaned)\n",
    "with no_grad():\n",
    "    x_tst = stn_tst.unsqueeze(0).to(device)\n",
    "    x_tst_lengths = LongTensor([stn_tst.size(0)]).to(device)\n",
    "    sid = LongTensor([speaker_id]).to(device)\n",
    "    audio = net_g_ms.infer(x_tst, x_tst_lengths, sid=sid, noise_scale=noise_scale,\n",
    "                           noise_scale_w=noise_scale_w, length_scale=length_scale)[0][0, 0].data.cpu().float().numpy()\n",
    "\n",
    "write(output_path, hps_ms.data.sampling_rate, audio)\n",
    "print('Successfully saved!')"
   ]
  },
  {
   "cell_type": "code",
   "execution_count": null,
   "id": "86d1c2e2-48ce-432d-b22b-bd08de03c513",
   "metadata": {},
   "outputs": [],
   "source": []
  }
 ],
 "metadata": {
  "kernelspec": {
   "display_name": "vits",
   "language": "python",
   "name": "vits"
  },
  "language_info": {
   "codemirror_mode": {
    "name": "ipython",
    "version": 3
   },
   "file_extension": ".py",
   "mimetype": "text/x-python",
   "name": "python",
   "nbconvert_exporter": "python",
   "pygments_lexer": "ipython3",
   "version": "3.7.16"
  }
 },
 "nbformat": 4,
 "nbformat_minor": 5
}
